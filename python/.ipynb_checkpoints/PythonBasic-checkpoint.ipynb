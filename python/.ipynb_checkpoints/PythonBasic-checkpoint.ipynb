{
 "cells": [
  {
   "cell_type": "markdown",
   "id": "e1b0fd2e-0d8a-49b1-902a-a7218ef66900",
   "metadata": {},
   "source": [
    "<h2>PRINT function<h2/>"
   ]
  },
  {
   "cell_type": "code",
   "execution_count": 3,
   "id": "d9a64ec1-2267-498a-bbd5-de4f52f5abbd",
   "metadata": {},
   "outputs": [
    {
     "name": "stdout",
     "output_type": "stream",
     "text": [
      "Harshi is back\n"
     ]
    }
   ],
   "source": [
    "print(\"Harshi is back\")"
   ]
  },
  {
   "cell_type": "code",
   "execution_count": 5,
   "id": "f9be1227-f2bb-4f9f-b48a-6fdb279878ef",
   "metadata": {},
   "outputs": [
    {
     "name": "stdout",
     "output_type": "stream",
     "text": [
      "1 . Harshi is living in US\n"
     ]
    }
   ],
   "source": [
    "print(1,\".\",\"Harshi\",\"is\",\"living\",\"in\",\"US\")"
   ]
  },
  {
   "cell_type": "code",
   "execution_count": 6,
   "id": "22a6bdc9-634c-4a7b-9ecc-81091dfc7f3f",
   "metadata": {},
   "outputs": [
    {
     "name": "stdout",
     "output_type": "stream",
     "text": [
      "2/./Harshi/is/living/in/US\n"
     ]
    }
   ],
   "source": [
    "print(2,\".\",\"Harshi\",\"is\",\"living\",\"in\",\"US\",sep='/')"
   ]
  },
  {
   "cell_type": "code",
   "execution_count": 7,
   "id": "e77c22bc-d2f7-4b15-b2ca-e3a64600e8bf",
   "metadata": {},
   "outputs": [
    {
     "name": "stdout",
     "output_type": "stream",
     "text": [
      "2-.-Harshi-is-living-in-US\n"
     ]
    }
   ],
   "source": [
    "print(2,\".\",\"Harshi\",\"is\",\"living\",\"in\",\"US\",sep='-')"
   ]
  },
  {
   "cell_type": "markdown",
   "id": "83a9b665-bad2-4515-8371-0bce48b2807e",
   "metadata": {},
   "source": [
    "<h1>Python supports 3 categories of data types</h1>"
   ]
  },
  {
   "cell_type": "markdown",
   "id": "6ad3af7c-f4a9-454d-95df-cc8933260958",
   "metadata": {},
   "source": [
    "<p>  \n",
    "Basic types-(integer, float, complex, boolean,and string \n",
    "    \n",
    "Container types-(list, tuples, sets, and dictionary)\n",
    "    \n",
    "User-defined types- Class\n",
    "    </p>"
   ]
  },
  {
   "cell_type": "code",
   "execution_count": 11,
   "id": "70cd295e-056e-4f40-a8f9-d3c08166c4be",
   "metadata": {},
   "outputs": [
    {
     "name": "stdout",
     "output_type": "stream",
     "text": [
      "4\n"
     ]
    }
   ],
   "source": [
    "# integer\n",
    "print(4)"
   ]
  },
  {
   "cell_type": "code",
   "execution_count": 12,
   "id": "aa4a271a-79a1-41fb-878c-bd7fb2f5ea5d",
   "metadata": {},
   "outputs": [
    {
     "name": "stdout",
     "output_type": "stream",
     "text": [
      "4.5\n"
     ]
    }
   ],
   "source": [
    "# float\n",
    "print(4.5)"
   ]
  },
  {
   "cell_type": "code",
   "execution_count": 13,
   "id": "9e522839-d2b4-4264-aadf-ba3e3f39ad3d",
   "metadata": {},
   "outputs": [
    {
     "name": "stdout",
     "output_type": "stream",
     "text": [
      "(4+5j)\n"
     ]
    }
   ],
   "source": [
    "# complex \n",
    "print(4+5j)"
   ]
  },
  {
   "cell_type": "code",
   "execution_count": 15,
   "id": "bdae8db7-c657-4d91-bad4-d629af56654c",
   "metadata": {},
   "outputs": [
    {
     "name": "stdout",
     "output_type": "stream",
     "text": [
      "True\n"
     ]
    }
   ],
   "source": [
    "# boolean\n",
    "print(True)"
   ]
  },
  {
   "cell_type": "code",
   "execution_count": 17,
   "id": "391728ba-798a-43bb-a5a2-607967fe83ff",
   "metadata": {},
   "outputs": [
    {
     "name": "stdout",
     "output_type": "stream",
     "text": [
      "1\n",
      "1\n",
      "1\n"
     ]
    }
   ],
   "source": [
    "# strings\n",
    "print('1')\n",
    "print(\"1\")\n",
    "print('''1''')"
   ]
  },
  {
   "cell_type": "code",
   "execution_count": 18,
   "id": "c11d2625-98b6-4115-b183-8168d0eb6597",
   "metadata": {},
   "outputs": [
    {
     "name": "stdout",
     "output_type": "stream",
     "text": [
      "[1, 2, 3, 4]\n"
     ]
    }
   ],
   "source": [
    "#list\n",
    "print([1,2,3,4])"
   ]
  },
  {
   "cell_type": "code",
   "execution_count": 19,
   "id": "b8c6ef29-ac69-4fe0-95d5-26aa7d476686",
   "metadata": {},
   "outputs": [
    {
     "name": "stdout",
     "output_type": "stream",
     "text": [
      "(1, 2, 3, 4)\n"
     ]
    }
   ],
   "source": [
    "# tuple\n",
    "print((1,2,3,4))"
   ]
  },
  {
   "cell_type": "code",
   "execution_count": 20,
   "id": "13cb6173-fe96-41d9-b5ee-2d998bb6bcf5",
   "metadata": {},
   "outputs": [
    {
     "name": "stdout",
     "output_type": "stream",
     "text": [
      "{1, 2, 4}\n"
     ]
    }
   ],
   "source": [
    "#sets\n",
    "print({1,2,4})"
   ]
  },
  {
   "cell_type": "code",
   "execution_count": 3,
   "id": "6d01095c-4ef4-41f3-b4d5-0c2ad7b127fe",
   "metadata": {},
   "outputs": [
    {
     "name": "stdout",
     "output_type": "stream",
     "text": [
      "{'name': 'harshi', 'age': 21, 'gender': 'mle'}\n"
     ]
    }
   ],
   "source": [
    "# dict\n",
    "print({\"name\":\"harshi\",\"age\":21,\"gender\":\"male\"})"
   ]
  },
  {
   "cell_type": "markdown",
   "id": "e192133a-b80a-4d4c-aac3-2aef14a179bd",
   "metadata": {},
   "source": [
    "<h3>Comments- A piece of code which is not executable by the the complier or interpreter</h3>"
   ]
  },
  {
   "cell_type": "code",
   "execution_count": 1,
   "id": "5760fe53-94d1-4e4e-871e-0ad343e22f88",
   "metadata": {},
   "outputs": [],
   "source": [
    "# Comments"
   ]
  },
  {
   "cell_type": "markdown",
   "id": "2a027899-9e1f-43ec-b1a3-9f26165e3744",
   "metadata": {},
   "source": [
    "<h3>Variables</h3>"
   ]
  },
  {
   "cell_type": "code",
   "execution_count": 1,
   "id": "229c1214-7548-4b7b-9cc9-03965637e2fb",
   "metadata": {},
   "outputs": [
    {
     "name": "stdout",
     "output_type": "stream",
     "text": [
      "Harshi\n"
     ]
    }
   ],
   "source": [
    "# C lang \n",
    "# int a= s \n",
    "# in python its easy because there is no variable declaration\n",
    "name='Harshi'\n",
    "print(name)"
   ]
  },
  {
   "cell_type": "code",
   "execution_count": 2,
   "id": "9c9e2d4b-dbe6-4de2-acc3-536994dfe6de",
   "metadata": {},
   "outputs": [],
   "source": [
    "# Python is Dyanmic typic \n",
    "# dynamic binding= variable can have any data type "
   ]
  },
  {
   "cell_type": "code",
   "execution_count": 4,
   "id": "064c3fbe-1401-486f-87c4-39358f7e863b",
   "metadata": {},
   "outputs": [
    {
     "name": "stdout",
     "output_type": "stream",
     "text": [
      "5\n",
      "6\n",
      "6\n"
     ]
    }
   ],
   "source": [
    "# special Syntax \n",
    "a=5;b=6;c=7\n",
    "print(a)\n",
    "print(b)\n",
    "print(c)"
   ]
  },
  {
   "cell_type": "code",
   "execution_count": 5,
   "id": "d78141b7-c79e-4d5b-b7ff-d749409116b9",
   "metadata": {},
   "outputs": [
    {
     "name": "stdout",
     "output_type": "stream",
     "text": [
      "1\n",
      "2\n",
      "3\n"
     ]
    }
   ],
   "source": [
    "a,b,c=1,2,3\n",
    "print(a)\n",
    "print(b)\n",
    "print(c)"
   ]
  },
  {
   "cell_type": "markdown",
   "id": "f68a878f-ec48-46a5-83ca-66ef92a9ff3a",
   "metadata": {},
   "source": [
    "<h3>Keywords and identifiers</h3>"
   ]
  },
  {
   "cell_type": "markdown",
   "id": "61b5deaf-b678-4e3b-aaa6-a002178e5435",
   "metadata": {},
   "source": [
    "<h4>KEYWORDS</h4>\n",
    "<p> \n",
    " Python is a case sensitive programming langauge\n",
    " In programming, a keyword is a word that is reserved by a because the word has a special meaning. Keywords can be command or parameters. \n",
    " Keywords can be commands or parameters. Every programming langauge has a set of keywords that cannot be used as variale names.\n",
    "\n",
    "    Python has 33 keywods\n",
    "</p>"
   ]
  },
  {
   "cell_type": "code",
   "execution_count": 8,
   "id": "8203b82d-7432-49f1-9f3a-f2f443bdc0b4",
   "metadata": {},
   "outputs": [
    {
     "name": "stdout",
     "output_type": "stream",
     "text": [
      "['False', 'None', 'True', 'and', 'as', 'assert', 'async', 'await', 'break', 'class', 'continue', 'def', 'del', 'elif', 'else', 'except', 'finally', 'for', 'from', 'global', 'if', 'import', 'in', 'is', 'lambda', 'nonlocal', 'not', 'or', 'pass', 'raise', 'return', 'try', 'while', 'with', 'yield']\n"
     ]
    }
   ],
   "source": [
    "\n",
    "import keyword\n",
    "print(keyword.kwlist)"
   ]
  },
  {
   "cell_type": "markdown",
   "id": "f050adf4-da14-48c5-8d57-b742c3bfde97",
   "metadata": {},
   "source": [
    "<h4>IDENTIFIERS</h4>\n",
    "<p>A python identifier is a name used to identify a variable, function, class, module, or other object.</p>\n",
    "\n",
    "<h5>Rules for setting identifiers</h5>\n",
    "<p>\n",
    "1. can only start with an alphabet or.\n",
    "2. Followed by 0 or more letter,_and digits. \n",
    "3. keywords cannot be used as an identifiers\n",
    "</p>"
   ]
  },
  {
   "cell_type": "code",
   "execution_count": 10,
   "id": "7a4e1cb3-9e0f-4815-a635-be0a0d202b9e",
   "metadata": {},
   "outputs": [
    {
     "name": "stdout",
     "output_type": "stream",
     "text": [
      "Harshi\n"
     ]
    }
   ],
   "source": [
    "_harshi13='Harshi'\n",
    "print(_harshi13)"
   ]
  },
  {
   "cell_type": "markdown",
   "id": "fc499a00-bf46-4522-9851-2694743b778e",
   "metadata": {},
   "source": [
    "<h3>Taking user input</h3>"
   ]
  },
  {
   "cell_type": "code",
   "execution_count": 14,
   "id": "6ef12e3e-3346-4fb0-97c6-808c8d1e5a49",
   "metadata": {},
   "outputs": [
    {
     "name": "stdin",
     "output_type": "stream",
     "text": [
      "Apna naam bta hARSHI\n"
     ]
    },
    {
     "data": {
      "text/plain": [
       "'hARSHI'"
      ]
     },
     "execution_count": 14,
     "metadata": {},
     "output_type": "execute_result"
    }
   ],
   "source": [
    "# This comes under dynamic interaction or software\n",
    "input(\"Apna naam bta\")\n"
   ]
  }
 ],
 "metadata": {
  "kernelspec": {
   "display_name": "Python 3 (ipykernel)",
   "language": "python",
   "name": "python3"
  },
  "language_info": {
   "codemirror_mode": {
    "name": "ipython",
    "version": 3
   },
   "file_extension": ".py",
   "mimetype": "text/x-python",
   "name": "python",
   "nbconvert_exporter": "python",
   "pygments_lexer": "ipython3",
   "version": "3.10.0"
  }
 },
 "nbformat": 4,
 "nbformat_minor": 5
}
