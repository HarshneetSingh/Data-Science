{
 "cells": [
  {
   "cell_type": "markdown",
   "metadata": {},
   "source": [
    "# OOP\n",
    "- The main power of OOP is to create its own data type \n",
    "* Classes and objects\n",
    "* Class is a blueprint for creating objects , For ex = Car is a class and nissan is a object\n",
    "\n",
    "* Objects are instances of classes. For ex = nissan is an object of Car class\n",
    "\n",
    "* Syntax to creat objects ->\n",
    " objectname = classname()"
   ]
  },
  {
   "cell_type": "code",
   "execution_count": 7,
   "metadata": {},
   "outputs": [],
   "source": [
    "#Pascal case -> myWorld\n",
    "\n",
    "class Atm: \n",
    "    \n",
    "    # constructor(Special Funtions) ->SUPERPOWER -> \n",
    "    def __init__(self):\n",
    "        self.pin= ''\n",
    "        self.balance = 0\n",
    "        self.menu()\n",
    "        # print(\"Constructor executed\")\n",
    "    def menu(self):\n",
    "        userInput=input(\"\"\"\n",
    "        Hi how can i help you?\n",
    "        1. Press 1 to create pin\n",
    "        2. Press 2 to check balance\n",
    "        3. Press 3 to withdraw money\n",
    "        4. press 4 to change pin\n",
    "        5. Anything else to exit\n",
    "        \"\"\")\n",
    "\n",
    "        if userInput == '1':\n",
    "            self.createPin()\n",
    "        elif userInput == '2':\n",
    "            self.checkBalance()\n",
    "        elif userInput == '3':\n",
    "            self.withdrawMoney()\n",
    "        elif userInput == '4':\n",
    "            self.changePin()\n",
    "        else:\n",
    "            print(\"Thank you for using our ATM\")\n",
    "    \n",
    "    def createPin(self):\n",
    "        user_pin= input(\"Enter your PIN number\")\n",
    "        self.pin = user_pin\n",
    "\n",
    "        user_balance=int(input(\"Enter Balance\"))\n",
    "        self.balance =user_balance \n",
    "\n",
    "        print(\"Pin created successfully\")\n",
    "        self.menu()\n",
    "\n",
    "    def changePin(self):\n",
    "        old_pin=input(\"Enter your Existing PIN number\")\n",
    "        if old_pin == self.pin:\n",
    "            new_pin=input(\"Enter your new PIN number\")\n",
    "            self.pin = new_pin\n",
    "            print(\"Pin changed successfully\")\n",
    "            self.menu()\n",
    "        else:\n",
    "            print(\"Old PIN is incorrect\")\n",
    "            self.menu()\n",
    "    \n",
    "    def checkBalance(self):\n",
    "\n",
    "        user_pin= input(\"Enter your PIN number\")\n",
    "        if user_pin == self.pin:\n",
    "            print(f\"Your current balance is {self.balance}\")\n",
    "        else:\n",
    "            print(\"Incorrect PIN\")\n",
    "        self.menu()\n",
    "\n",
    "    def withdrawMoney(self):\n",
    "        user_pin= input(\"Enter your PIN number\")\n",
    "        if user_pin==self.pin:\n",
    "            withdrawlAmaunt=int(input(\"How much to withdraw\"))\n",
    "            if withdrawlAmaunt<=self.balance:\n",
    "                self.balance= self.balance - withdrawlAmaunt\n",
    "                print(\"Withdrawn successfully\")\n",
    "                print(f\"Your current balance is {self.balance}\")\n",
    "            else:\n",
    "                print(\"Insufficient balance\")\n",
    "        else:\n",
    "            print(\"Incorrect PIN\")\n",
    "\n",
    "        self.menu()"
   ]
  },
  {
   "cell_type": "code",
   "execution_count": 8,
   "metadata": {},
   "outputs": [
    {
     "name": "stdin",
     "output_type": "stream",
     "text": [
      "\n",
      "        Hi how can i help you?\n",
      "        1. Press 1 to create pin\n",
      "        2. Press 2 to check balance\n",
      "        3. Press 3 to withdraw money\n",
      "        4. press 4 to change pin\n",
      "        5. Anything else to exit\n",
      "         1\n",
      "Enter your PIN number 1234\n",
      "Enter Balance 1000\n"
     ]
    },
    {
     "name": "stdout",
     "output_type": "stream",
     "text": [
      "Pin created successfully\n"
     ]
    },
    {
     "name": "stdin",
     "output_type": "stream",
     "text": [
      "\n",
      "        Hi how can i help you?\n",
      "        1. Press 1 to create pin\n",
      "        2. Press 2 to check balance\n",
      "        3. Press 3 to withdraw money\n",
      "        4. press 4 to change pin\n",
      "        5. Anything else to exit\n",
      "         3\n",
      "Enter your PIN number 1234\n",
      "How much to withdraw 999\n"
     ]
    },
    {
     "name": "stdout",
     "output_type": "stream",
     "text": [
      "Withdrawn successfully\n",
      "Your current balance is 1\n"
     ]
    },
    {
     "name": "stdin",
     "output_type": "stream",
     "text": [
      "\n",
      "        Hi how can i help you?\n",
      "        1. Press 1 to create pin\n",
      "        2. Press 2 to check balance\n",
      "        3. Press 3 to withdraw money\n",
      "        4. press 4 to change pin\n",
      "        5. Anything else to exit\n",
      "         5\n"
     ]
    },
    {
     "name": "stdout",
     "output_type": "stream",
     "text": [
      "Thank you for using our ATM\n"
     ]
    }
   ],
   "source": [
    "obj = Atm()\n",
    "\n",
    "\n",
    "# print(type(obj))\n",
    "\n",
    "# accessing attributes of an object\n",
    "#* print(obj.pin)\n",
    "#* print(obj.balance)"
   ]
  },
  {
   "cell_type": "markdown",
   "metadata": {},
   "source": []
  }
 ],
 "metadata": {
  "kernelspec": {
   "display_name": "Python 3 (ipykernel)",
   "language": "python",
   "name": "python3"
  },
  "language_info": {
   "codemirror_mode": {
    "name": "ipython",
    "version": 3
   },
   "file_extension": ".py",
   "mimetype": "text/x-python",
   "name": "python",
   "nbconvert_exporter": "python",
   "pygments_lexer": "ipython3",
   "version": "3.10.0"
  }
 },
 "nbformat": 4,
 "nbformat_minor": 4
}
