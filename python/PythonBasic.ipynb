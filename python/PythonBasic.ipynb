{
 "cells": [
  {
   "cell_type": "markdown",
   "id": "e1b0fd2e-0d8a-49b1-902a-a7218ef66900",
   "metadata": {},
   "source": [
    "<h2>PRINT function<h2/>"
   ]
  },
  {
   "cell_type": "code",
   "execution_count": null,
   "id": "d9a64ec1-2267-498a-bbd5-de4f52f5abbd",
   "metadata": {},
   "outputs": [],
   "source": [
    "print(\"Harshi is back\")"
   ]
  },
  {
   "cell_type": "code",
   "execution_count": null,
   "id": "f9be1227-f2bb-4f9f-b48a-6fdb279878ef",
   "metadata": {},
   "outputs": [],
   "source": [
    "print(1,\".\",\"Harshi\",\"is\",\"living\",\"in\",\"US\")"
   ]
  },
  {
   "cell_type": "code",
   "execution_count": null,
   "id": "22a6bdc9-634c-4a7b-9ecc-81091dfc7f3f",
   "metadata": {},
   "outputs": [],
   "source": [
    "print(2,\".\",\"Harshi\",\"is\",\"living\",\"in\",\"US\",sep='/')"
   ]
  },
  {
   "cell_type": "code",
   "execution_count": null,
   "id": "e77c22bc-d2f7-4b15-b2ca-e3a64600e8bf",
   "metadata": {},
   "outputs": [],
   "source": [
    "print(2,\".\",\"Harshi\",\"is\",\"living\",\"in\",\"US\",sep='-')"
   ]
  },
  {
   "cell_type": "markdown",
   "id": "83a9b665-bad2-4515-8371-0bce48b2807e",
   "metadata": {},
   "source": [
    "<h1>Python supports 3 categories of data types</h1>"
   ]
  },
  {
   "cell_type": "markdown",
   "id": "6ad3af7c-f4a9-454d-95df-cc8933260958",
   "metadata": {},
   "source": [
    "<p>  \n",
    "Basic types-(integer, float, complex, boolean,and string \n",
    "    \n",
    "Container types-(list, tuples, sets, and dictionary)\n",
    "    \n",
    "User-defined types- Class\n",
    "    </p>"
   ]
  },
  {
   "cell_type": "code",
   "execution_count": null,
   "id": "70cd295e-056e-4f40-a8f9-d3c08166c4be",
   "metadata": {},
   "outputs": [],
   "source": [
    "# integer\n",
    "print(4)"
   ]
  },
  {
   "cell_type": "code",
   "execution_count": null,
   "id": "aa4a271a-79a1-41fb-878c-bd7fb2f5ea5d",
   "metadata": {},
   "outputs": [],
   "source": [
    "# float\n",
    "print(4.5)"
   ]
  },
  {
   "cell_type": "code",
   "execution_count": null,
   "id": "9e522839-d2b4-4264-aadf-ba3e3f39ad3d",
   "metadata": {},
   "outputs": [],
   "source": [
    "# complex \n",
    "print(4+5j)"
   ]
  },
  {
   "cell_type": "code",
   "execution_count": null,
   "id": "bdae8db7-c657-4d91-bad4-d629af56654c",
   "metadata": {},
   "outputs": [],
   "source": [
    "# boolean\n",
    "print(True)"
   ]
  },
  {
   "cell_type": "code",
   "execution_count": null,
   "id": "391728ba-798a-43bb-a5a2-607967fe83ff",
   "metadata": {},
   "outputs": [],
   "source": [
    "# strings\n",
    "print('1')\n",
    "print(\"1\")\n",
    "print('''1''')"
   ]
  },
  {
   "cell_type": "code",
   "execution_count": null,
   "id": "c11d2625-98b6-4115-b183-8168d0eb6597",
   "metadata": {},
   "outputs": [],
   "source": [
    "#list\n",
    "print([1,2,3,4])"
   ]
  },
  {
   "cell_type": "code",
   "execution_count": null,
   "id": "b8c6ef29-ac69-4fe0-95d5-26aa7d476686",
   "metadata": {},
   "outputs": [],
   "source": [
    "# tuple\n",
    "print((1,2,3,4))"
   ]
  },
  {
   "cell_type": "code",
   "execution_count": null,
   "id": "13cb6173-fe96-41d9-b5ee-2d998bb6bcf5",
   "metadata": {},
   "outputs": [],
   "source": [
    "#sets\n",
    "print({1,2,4})"
   ]
  },
  {
   "cell_type": "code",
   "execution_count": null,
   "id": "6d01095c-4ef4-41f3-b4d5-0c2ad7b127fe",
   "metadata": {},
   "outputs": [],
   "source": [
    "# dict\n",
    "print({\"name\":\"harshi\",\"age\":21,\"gender\":\"male\"})"
   ]
  },
  {
   "cell_type": "markdown",
   "id": "e192133a-b80a-4d4c-aac3-2aef14a179bd",
   "metadata": {},
   "source": [
    "<h3>Comments- A piece of code which is not executable by the the complier or interpreter</h3>"
   ]
  },
  {
   "cell_type": "code",
   "execution_count": 32,
   "id": "5760fe53-94d1-4e4e-871e-0ad343e22f88",
   "metadata": {},
   "outputs": [],
   "source": [
    "# Comments"
   ]
  },
  {
   "cell_type": "markdown",
   "id": "2a027899-9e1f-43ec-b1a3-9f26165e3744",
   "metadata": {},
   "source": [
    "<h3>Variables</h3>"
   ]
  },
  {
   "cell_type": "code",
   "execution_count": null,
   "id": "229c1214-7548-4b7b-9cc9-03965637e2fb",
   "metadata": {},
   "outputs": [],
   "source": [
    "# C lang \n",
    "# int a= s \n",
    "# in python its easy because there is no variable declaration\n",
    "name='Harshi'\n",
    "print(name)"
   ]
  },
  {
   "cell_type": "code",
   "execution_count": 34,
   "id": "9c9e2d4b-dbe6-4de2-acc3-536994dfe6de",
   "metadata": {},
   "outputs": [],
   "source": [
    "# Python is Dyanmic typic \n",
    "# dynamic binding= variable can have any data type "
   ]
  },
  {
   "cell_type": "code",
   "execution_count": null,
   "id": "064c3fbe-1401-486f-87c4-39358f7e863b",
   "metadata": {},
   "outputs": [],
   "source": [
    "# special Syntax \n",
    "a=5;b=6;c=7\n",
    "print(a)\n",
    "print(b)\n",
    "print(c)"
   ]
  },
  {
   "cell_type": "code",
   "execution_count": null,
   "id": "d78141b7-c79e-4d5b-b7ff-d749409116b9",
   "metadata": {},
   "outputs": [],
   "source": [
    "a,b,c=1,2,3\n",
    "print(a)\n",
    "print(b)\n",
    "print(c)"
   ]
  },
  {
   "cell_type": "markdown",
   "id": "f68a878f-ec48-46a5-83ca-66ef92a9ff3a",
   "metadata": {},
   "source": [
    "<h3>Keywords and identifiers</h3>"
   ]
  },
  {
   "cell_type": "markdown",
   "id": "61b5deaf-b678-4e3b-aaa6-a002178e5435",
   "metadata": {},
   "source": [
    "<h4>KEYWORDS</h4>\n",
    "<p> \n",
    " Python is a case sensitive programming langauge\n",
    " In programming, a keyword is a word that is reserved by a because the word has a special meaning. Keywords can be command or parameters. \n",
    " Keywords can be commands or parameters. Every programming langauge has a set of keywords that cannot be used as variale names.\n",
    "\n",
    "    Python has 33 keywods\n",
    "</p>"
   ]
  },
  {
   "cell_type": "code",
   "execution_count": null,
   "id": "8203b82d-7432-49f1-9f3a-f2f443bdc0b4",
   "metadata": {},
   "outputs": [],
   "source": [
    "\n",
    "import keyword\n",
    "print(keyword.kwlist)"
   ]
  },
  {
   "cell_type": "markdown",
   "id": "f050adf4-da14-48c5-8d57-b742c3bfde97",
   "metadata": {},
   "source": [
    "<h4>IDENTIFIERS</h4>\n",
    "<p>A python identifier is a name used to identify a variable, function, class, module, or other object.</p>\n",
    "\n",
    "<h5>Rules for setting identifiers</h5>\n",
    "<p>\n",
    "1. can only start with an alphabet or.\n",
    "2. Followed by 0 or more letter,_and digits. \n",
    "3. keywords cannot be used as an identifiers\n",
    "</p>"
   ]
  },
  {
   "cell_type": "code",
   "execution_count": null,
   "id": "7a4e1cb3-9e0f-4815-a635-be0a0d202b9e",
   "metadata": {},
   "outputs": [],
   "source": [
    "_harshi13='Harshi'\n",
    "print(_harshi13)"
   ]
  },
  {
   "cell_type": "markdown",
   "id": "fc499a00-bf46-4522-9851-2694743b778e",
   "metadata": {},
   "source": [
    "<h3>Taking user input</h3>"
   ]
  },
  {
   "cell_type": "code",
   "execution_count": null,
   "id": "6ef12e3e-3346-4fb0-97c6-808c8d1e5a49",
   "metadata": {},
   "outputs": [],
   "source": [
    "# This comes under dynamic interaction or software\n",
    "#* Input function returns a string by default.\n",
    "input(\"Apna naam bta\")\n"
   ]
  },
  {
   "cell_type": "code",
   "execution_count": 40,
   "id": "9653c413",
   "metadata": {},
   "outputs": [],
   "source": [
    "first_num=input(\"Enter the first number\")\n",
    "sec_num=input(\"Enter the second number\")"
   ]
  },
  {
   "cell_type": "code",
   "execution_count": null,
   "id": "27590c25",
   "metadata": {},
   "outputs": [],
   "source": [
    "print(first_num)\n",
    "print(sec_num)"
   ]
  },
  {
   "cell_type": "code",
   "execution_count": null,
   "id": "05f86fd3",
   "metadata": {},
   "outputs": [],
   "source": [
    "result= int(first_num)+ int(sec_num)\n",
    "print(result)"
   ]
  },
  {
   "cell_type": "code",
   "execution_count": null,
   "id": "3ed9eac2",
   "metadata": {},
   "outputs": [],
   "source": [
    "# Type function\n",
    "type(result)"
   ]
  },
  {
   "cell_type": "markdown",
   "id": "d77bab32",
   "metadata": {},
   "source": [
    "<h4>Type Conversion</h4>"
   ]
  },
  {
   "cell_type": "code",
   "execution_count": null,
   "id": "042848d9",
   "metadata": {},
   "outputs": [],
   "source": [
    " #process of converting a number to a string or a string to a number.  \n",
    "# expilcit and implicit conversion\n",
    "\n",
    "#implict =automatic\n",
    "4+4.5\n",
    "\n",
    "#explicit converting by with the human help \n",
    "int()\n",
    "print(result)"
   ]
  },
  {
   "cell_type": "markdown",
   "id": "440d9697",
   "metadata": {},
   "source": [
    "<h3>Literals</h3>\n",
    "<h6>literal is a raw data given in a variable. In python, there are various types of literals they are as follows:</h6>\n",
    "<p>\n",
    "numerica literals, \n",
    "String literals,\n",
    "boolean literals,\n",
    "special literals\n",
    "</p>"
   ]
  },
  {
   "cell_type": "code",
   "execution_count": null,
   "id": "cbcbc435",
   "metadata": {},
   "outputs": [],
   "source": [
    "#Numerical literals\n",
    "\n",
    "\n",
    "a= 0b1010 #*Binary literals\n",
    "b=100 #*decimal literals\n",
    "c=0o310 #*octal literals\n",
    "d=0x12c #*hexadecimal literals\n",
    "\n",
    "#Float literals\n",
    "float_1= 10.5\n",
    "float_2=1.5e2\n",
    "float_3=1.5e-3\n",
    "\n",
    "#complex literals\n",
    "x=3.14j\n",
    "\n",
    "print(a,b,c,d)\n",
    "print(float_1,float_2,float_3)\n",
    "print(x,x.imag,x.real)\n"
   ]
  },
  {
   "cell_type": "code",
   "execution_count": null,
   "id": "36797a92",
   "metadata": {},
   "outputs": [],
   "source": [
    "# String literals\n",
    "\n",
    "string ='this is a string'\n",
    "strings =\"this is a string\"\n",
    "char =\"C\"\n",
    "MultiLine_str=\"\"\"this is a multi-line string\"\"\"\n",
    "unicode= u\"\\U0001f600\\U0001f607\\U0001f608\"\n",
    "raw_str=r\"raw \\n string \"\n",
    "\n",
    "print(string)\n",
    "print(strings)\n",
    "print(char)\n",
    "print(MultiLine_str)\n",
    "print(raw_str)\n",
    "print(unicode)\n",
    "\n"
   ]
  },
  {
   "cell_type": "code",
   "execution_count": null,
   "id": "3c0dbed1",
   "metadata": {},
   "outputs": [],
   "source": [
    "#Boolean literals\n",
    "\n",
    "a= True + 4\n",
    "b= False + 10\n",
    "\n",
    "print(\"a: \", a)\n",
    "print(\"b: \", b)\n"
   ]
  },
  {
   "cell_type": "code",
   "execution_count": null,
   "id": "2c9e11e3",
   "metadata": {},
   "outputs": [],
   "source": [
    "#Special literal\n",
    "a= None\n",
    "print(a)"
   ]
  },
  {
   "cell_type": "markdown",
   "id": "57818ed0",
   "metadata": {},
   "source": [
    "# Operators\n",
    "opertors are used to perform operations on variables and values. Python has the following operators:\n",
    "* Arithmetic operations\n",
    "* comparison operations\n",
    "* logical operations\n",
    "* bitwise operations\n",
    "* Assignment operators\n",
    "* Identity operators\n",
    "* Memborship operators"
   ]
  },
  {
   "cell_type": "code",
   "execution_count": null,
   "id": "679e1dfe",
   "metadata": {},
   "outputs": [],
   "source": [
    "#* Arithmatic operations\n",
    "x=5\n",
    "y=2\n",
    "print(x+y)\n",
    "print(x*y)\n",
    "print(x%y)\n",
    "print(x**y)\n",
    "print(x // y)"
   ]
  },
  {
   "cell_type": "code",
   "execution_count": null,
   "id": "0dba8c20",
   "metadata": {},
   "outputs": [],
   "source": [
    "#! Comparison operations\n",
    "print(x>y)\n",
    "print(x<y)\n",
    "print(x<=y)\n",
    "print(x>=y)\n",
    "print(x==y)\n",
    "print(x!=y)"
   ]
  },
  {
   "cell_type": "code",
   "execution_count": null,
   "id": "eba9ae6c",
   "metadata": {},
   "outputs": [],
   "source": [
    "#Logical operations\n",
    "x=True\n",
    "y=False\n",
    "\n",
    "print(x or y)\n",
    "print(x and y)\n",
    "print(not y)"
   ]
  },
  {
   "cell_type": "code",
   "execution_count": null,
   "id": "221e3f6c",
   "metadata": {},
   "outputs": [],
   "source": [
    "# Bitwise operations\n",
    "x=2\n",
    "y=3\n",
    "\n",
    "# & means AND \n",
    "print(x & y) # the answer is two because of the following\n",
    "# 2= 010\n",
    "# 3= 110\n",
    "# -------- comparing true and false with bits \n",
    "#    010\n",
    "# --------\n",
    "\n"
   ]
  },
  {
   "cell_type": "code",
   "execution_count": null,
   "id": "d23c064a",
   "metadata": {},
   "outputs": [],
   "source": [
    "# | means OR \n",
    "print(x | y) # the answer is two because of the following\n",
    "# 2= 010\n",
    "# 3= 110\n",
    "# -------- comparing true and false with bits \n",
    "#    110\n",
    "# --------"
   ]
  },
  {
   "cell_type": "code",
   "execution_count": null,
   "id": "f49efbcc",
   "metadata": {},
   "outputs": [],
   "source": [
    "print( x>>2)"
   ]
  },
  {
   "cell_type": "code",
   "execution_count": null,
   "id": "f167f934",
   "metadata": {},
   "outputs": [],
   "source": [
    "print(y<<3)"
   ]
  },
  {
   "cell_type": "code",
   "execution_count": null,
   "id": "7871a3b2",
   "metadata": {},
   "outputs": [],
   "source": [
    "print(-x)"
   ]
  },
  {
   "cell_type": "code",
   "execution_count": null,
   "id": "7db036df",
   "metadata": {},
   "outputs": [],
   "source": [
    "# Assignment operators\n",
    "a=3\n",
    "print(a)\n",
    "#now \n",
    "a+=3\n",
    "print(a)\n",
    "a-=3\n",
    "print(a)\n",
    "a*=3\n",
    "print(a)\n",
    "a&=3\n",
    "print(a)"
   ]
  },
  {
   "cell_type": "code",
   "execution_count": null,
   "id": "bea33213",
   "metadata": {},
   "outputs": [],
   "source": [
    "# identity operators- means variable values are same and stored at the same location \n",
    "a=3\n",
    "b=3\n",
    "\n",
    "print(a is b)\n",
    "a=\"he\"\n",
    "b=\"he\"\n",
    "\n",
    "print(a is b)\n",
    "a=[1,2,3]\n",
    "b=[1,2,3]\n",
    "\n",
    "print(a is b)\n",
    "print(a is b)\n",
    "a=\"h-e\"\n",
    "b=\"h-e\""
   ]
  },
  {
   "cell_type": "code",
   "execution_count": null,
   "id": "89095ac1",
   "metadata": {},
   "outputs": [],
   "source": [
    "# Membership operators\n",
    "x=\"Delhi\"\n",
    "print( \"D\" in x)\n",
    "print( \"D\" not in x)\n",
    "\n",
    "x=[1,2,3]\n",
    "print(5 in x)\n"
   ]
  },
  {
   "cell_type": "markdown",
   "id": "387ec0cf",
   "metadata": {},
   "source": [
    "<h2>If-Else Statements</h2>"
   ]
  },
  {
   "cell_type": "code",
   "execution_count": null,
   "id": "1c4488a3",
   "metadata": {},
   "outputs": [],
   "source": [
    "email= input(\"Enter your email address\")\n",
    "\n",
    "\n",
    "if \"@\" in email:\n",
    "    password= input(\"Enter your password\")\n",
    "    if email==\"harshneets50@gmail.com\" and password==\"1234\":\n",
    "        print(\"Login successful\")\n",
    "    elif email==\"harshneets50@gmail.com\" and password!=\"1234\":\n",
    "        print(\"Login failed\")\n",
    "        password=input(\"Enter your password and try again\")\n",
    "        if password==\"1234\":\n",
    "            print(\"Login successful\")\n",
    "        else:\n",
    "            print(\"Login failed again\")\n",
    "    else:\n",
    "        print(\"Invalid credentials\")\n",
    "else:\n",
    "    print(\"Password should contain @ symbol\")"
   ]
  },
  {
   "cell_type": "markdown",
   "id": "263ecb92",
   "metadata": {},
   "source": [
    "<h2>Identation is</h2>\n",
    "gap in situation like if-else"
   ]
  },
  {
   "cell_type": "markdown",
   "id": "59b40ba3",
   "metadata": {},
   "source": [
    "<h1>While LOOP</h1>"
   ]
  },
  {
   "cell_type": "code",
   "execution_count": null,
   "id": "893f4b15",
   "metadata": {},
   "outputs": [],
   "source": [
    "#It is used where when we dont know the times of iterations for our function\n",
    "\n",
    "number= int(input(\"Enter the table you need\"))\n",
    "length=int(input(\"Length of the table you\"))\n",
    "\n",
    "i=0\n",
    "while i<=length:\n",
    "    print(f\"{number} times {i}=\",number*i)\n",
    "    i+=1\n"
   ]
  },
  {
   "cell_type": "markdown",
   "id": "9c23929d",
   "metadata": {},
   "source": [
    "<h2>Guessing game in python</h2>\n"
   ]
  },
  {
   "cell_type": "code",
   "execution_count": null,
   "id": "996c327a",
   "metadata": {},
   "outputs": [],
   "source": [
    "import random\n",
    "\n",
    "randomGuess=random.randint(0,100)  # random number generator\n",
    "guess= int(input(\"Enter your guess\"))# random user gusess\n",
    "attempt=1\n",
    "#code which will check weather the user's input==randomGuess number\n",
    "\n",
    "#* this while loop will carry on until the user guesses the right random number\n",
    "while guess!=randomGuess:\n",
    "   if guess>randomGuess:\n",
    "      print(\"Too high, try again\",guess)\n",
    "   else:\n",
    "      print(\"Too low, try again\",guess)\n",
    "\n",
    "   guess= int(input(\"Enter your guess again\"))\n",
    "   attempt+=1\n",
    "\n",
    "\n",
    "print(\"Congratulations! You guessed the number in\",attempt,\"attempts\")\n"
   ]
  },
  {
   "cell_type": "markdown",
   "id": "1417df5c",
   "metadata": {},
   "source": [
    "<h1>For LOOP</h1>"
   ]
  },
  {
   "cell_type": "code",
   "execution_count": null,
   "id": "1bf662b5",
   "metadata": {},
   "outputs": [],
   "source": [
    "# range function\n",
    "\n",
    "range(0,5)\n",
    "print(list(range(0,5)))\n",
    "\n",
    "#* it means range function has 3 parameters \n",
    "# 1st parameter is start of the range //  inital number is 0\n",
    "# 2nd parameter is end of the range (exclusive)\n",
    "# 3rd parameter is step size\n",
    "\n",
    "print(list(range(15)))\n",
    "\n",
    "#step \n",
    "print(list(range(0,20,2)))\n",
    "\n",
    "#backward \n",
    "\n",
    "print(list(range(20,0,-1)))"
   ]
  },
  {
   "cell_type": "code",
   "execution_count": null,
   "id": "35b5a3f5",
   "metadata": {},
   "outputs": [],
   "source": [
    "# EXAMPLE1\n",
    "#! here it will not count the last range number 10\n",
    "\n",
    "\n",
    "for i in range(1,10):\n",
    "    print(i)\n",
    "\n",
    "# this above code is similar to the \n",
    "#   for(i=0,i<10,i++){\n",
    "#      printf(i);\n",
    "#   }"
   ]
  },
  {
   "cell_type": "code",
   "execution_count": null,
   "id": "e4fb6e41",
   "metadata": {},
   "outputs": [],
   "source": [
    "# EXAMPLE2\n",
    "#! here it will  count the last letter of the word\n",
    "\n",
    "for i in \"Kolkata\":\n",
    "    print(i)"
   ]
  },
  {
   "cell_type": "code",
   "execution_count": null,
   "id": "982fba1c",
   "metadata": {},
   "outputs": [],
   "source": [
    "#Nested loop\n",
    "# *\n",
    "# **\n",
    "# ***\n",
    "# ****\n",
    "# *****\n",
    "lines= int(input(\"Enter the number of lines you need\"))\n",
    "\n",
    "\n",
    "for i in range(0,lines):# this will make the lines of stars\n",
    "    for star in range(0,i+1):# this will make the stars in the lines\n",
    "        print(\"*\",end=\" \")\n",
    "    print(\"\") # this print will give us new line."
   ]
  },
  {
   "cell_type": "code",
   "execution_count": null,
   "id": "e648b1c4",
   "metadata": {},
   "outputs": [],
   "source": [
    "\n",
    "#* BREAK\n",
    "\n",
    "for i in range(0,10):\n",
    "    if i==5:\n",
    "        break\n",
    "    print(i)"
   ]
  },
  {
   "cell_type": "code",
   "execution_count": null,
   "id": "945312e3",
   "metadata": {},
   "outputs": [],
   "source": [
    "# CONTINUE \n",
    "\n",
    "for i in range(0,10):\n",
    "    if i==5:\n",
    "        continue # any code after continue will not run in that particulas iteration\n",
    "    print(i)\n",
    "    print(\"hi\")\n"
   ]
  },
  {
   "cell_type": "code",
   "execution_count": 23,
   "id": "403bcdb1",
   "metadata": {},
   "outputs": [],
   "source": [
    "# Pass statemtent\n",
    "\n",
    "for i in range(0,10):\n",
    "   \n",
    "        pass # this will not give any output in any iteration\n",
    "  "
   ]
  },
  {
   "cell_type": "markdown",
   "id": "332484e9",
   "metadata": {},
   "source": [
    "<h1>Built in Functions</h1>"
   ]
  },
  {
   "cell_type": "code",
   "execution_count": null,
   "id": "7f18aa85",
   "metadata": {},
   "outputs": [],
   "source": [
    "#ABS function\n",
    "abs(-4) #modulas funtion"
   ]
  },
  {
   "cell_type": "code",
   "execution_count": null,
   "id": "d0ded51d",
   "metadata": {},
   "outputs": [],
   "source": [
    "#POW function\n",
    "\n",
    "pow(2,-3) #3^-2\n",
    "pow(2,3) #3^2\n"
   ]
  },
  {
   "cell_type": "code",
   "execution_count": null,
   "id": "ae7cbe30",
   "metadata": {},
   "outputs": [],
   "source": [
    "# MINIMUM AND MAXIMUM FUNCTIONS\n",
    "min([0,2,3,4,5])"
   ]
  },
  {
   "cell_type": "code",
   "execution_count": null,
   "id": "d83fcad7",
   "metadata": {},
   "outputs": [],
   "source": [
    "max([1,2,3,4,5])\n"
   ]
  },
  {
   "cell_type": "code",
   "execution_count": null,
   "id": "fdc308c6",
   "metadata": {},
   "outputs": [],
   "source": [
    "#ROUND FUNCTIONS\n",
    "\n",
    "round(3.75) #3"
   ]
  },
  {
   "cell_type": "code",
   "execution_count": null,
   "id": "802c1f72",
   "metadata": {},
   "outputs": [],
   "source": [
    "#DIVMOD function\n",
    "\n",
    "divmod(10,3) # (3,1)"
   ]
  },
  {
   "cell_type": "code",
   "execution_count": null,
   "id": "47d2edfb",
   "metadata": {},
   "outputs": [],
   "source": [
    "#BIN/OCT/HEX function\n",
    "\n",
    "print(bin(10)) # 1010\n",
    "print(oct(10)) # 0o12\n",
    "print(hex(117)) \n"
   ]
  },
  {
   "cell_type": "code",
   "execution_count": null,
   "id": "a2c87ed3",
   "metadata": {},
   "outputs": [],
   "source": [
    "#ID Functions\n",
    "\n",
    "print(id(10)) # id of 10"
   ]
  },
  {
   "cell_type": "code",
   "execution_count": null,
   "id": "50ffa8e7",
   "metadata": {},
   "outputs": [],
   "source": [
    "#ORD function\n",
    "\n",
    "print(ord('A')) # 65\n"
   ]
  },
  {
   "cell_type": "code",
   "execution_count": null,
   "id": "8c6eddcf",
   "metadata": {},
   "outputs": [],
   "source": [
    "#LENGTH FUNCTION \n",
    "\n",
    "print(len(\"Hello World\")) # 11, INCLUDE SPACE AS WELL"
   ]
  },
  {
   "cell_type": "code",
   "execution_count": null,
   "id": "8a1dc818",
   "metadata": {},
   "outputs": [],
   "source": [
    "#SUM FUNCTION \n",
    "\n",
    "print(sum([1,2,3,4,5])) # 15"
   ]
  },
  {
   "cell_type": "code",
   "execution_count": null,
   "id": "f094e6af",
   "metadata": {},
   "outputs": [],
   "source": [
    "#HELP function \n",
    "\n",
    "help('sum') # it will give the help for sum function"
   ]
  },
  {
   "cell_type": "markdown",
   "id": "219be901",
   "metadata": {},
   "source": [
    "<h1>what are modules</h2>"
   ]
  },
  {
   "cell_type": "markdown",
   "id": "5804b3e1",
   "metadata": {},
   "source": [
    "consider a module to be the same as a code library.\n",
    "<p>A file containing a set of funtions you want to include in your applixation.</p>\n",
    "examples are: math, random, os, time"
   ]
  },
  {
   "cell_type": "code",
   "execution_count": null,
   "id": "7e3b3464",
   "metadata": {},
   "outputs": [],
   "source": [
    "help(\"modules\")"
   ]
  },
  {
   "cell_type": "code",
   "execution_count": null,
   "id": "58d72c9a",
   "metadata": {},
   "outputs": [],
   "source": [
    "import math \n",
    "print(math.pi)\n",
    "print(math.ceil(6.3))"
   ]
  },
  {
   "cell_type": "code",
   "execution_count": null,
   "id": "f6e7e8c7",
   "metadata": {},
   "outputs": [],
   "source": [
    "import random\n",
    "random.randint(0,100)"
   ]
  },
  {
   "cell_type": "code",
   "execution_count": null,
   "id": "65af2153",
   "metadata": {},
   "outputs": [],
   "source": [
    "import time \n",
    "time.time()\n",
    "time.ctime()"
   ]
  },
  {
   "cell_type": "code",
   "execution_count": null,
   "id": "e2385d0a",
   "metadata": {},
   "outputs": [],
   "source": [
    "print(\"hello\")\n",
    "time.sleep(1)\n",
    "print(\"world\")"
   ]
  },
  {
   "cell_type": "code",
   "execution_count": null,
   "id": "9f9e4aa7",
   "metadata": {},
   "outputs": [],
   "source": [
    "import os\n",
    "print(os.listdir())\n",
    "print(os.getcwd)"
   ]
  },
  {
   "cell_type": "markdown",
   "id": "9f45cfe0",
   "metadata": {},
   "source": [
    "<h2>String are a sequence of Unicode Characters</h2>\n",
    "\n",
    "- Creating Strings \n",
    "- Accessing strings\n",
    "- Adding Chars to strings\n",
    "- Editing strings\n",
    "- Deleting strings\n",
    "- Operations on strings\n",
    "- String Functions\n"
   ]
  },
  {
   "cell_type": "code",
   "execution_count": null,
   "id": "d13bc952",
   "metadata": {},
   "outputs": [],
   "source": [
    " # Creating Strings\n",
    "\n",
    "string1 = \"Hello\"\n",
    "string2 = 'World'\n",
    "string3 = \"123\"\n",
    "string4 = '123'\n",
    "string5 = '''Multi line strings'''\n",
    "string6 = \"\"\"Multi line strings\"\"\"\n",
    "\n",
    "\n",
    "\n",
    "print(string1, string2, string3, string4, string5, string6) "
   ]
  },
  {
   "cell_type": "code",
   "execution_count": null,
   "id": "d4b5a18e",
   "metadata": {},
   "outputs": [],
   "source": [
    "# Accessing strings\n",
    "# Concept of Indexing\n",
    "\n",
    "c= \"hello\"\n",
    "print(c[1])"
   ]
  },
  {
   "cell_type": "code",
   "execution_count": null,
   "id": "b197f804",
   "metadata": {},
   "outputs": [],
   "source": [
    "#Types of Indexing\n",
    "\n",
    "#* Positive Indexing -> Left to Right\n",
    "#! Negative Indexing -> right to left\n",
    "\n",
    "print(c[-1]) #last character\n"
   ]
  },
  {
   "cell_type": "code",
   "execution_count": null,
   "id": "e014d477",
   "metadata": {},
   "outputs": [],
   "source": [
    "# Slicing of strings\n",
    "c = \"hello Harshi\"\n",
    "\n",
    "print(c[0:4]) # from index 0 to 4\n",
    "print(c[2:]) # from index 2 to end\n",
    "print(c[2:6:2]) # from index 2 to 6 but 1 next will skip \n",
    "\n",
    "print(c[::-1])"
   ]
  },
  {
   "cell_type": "code",
   "execution_count": null,
   "id": "c9207277",
   "metadata": {},
   "outputs": [],
   "source": [
    "# Editing and deleting in strings\n",
    "\n",
    "c= \"hello\"\n",
    "print(c)\n",
    "\n",
    "# c[0]='x' 'str' object does not support item assignment\n",
    "# Strings are immutable immutable Data trpe\n",
    "\n",
    "# Reassign is valid\n",
    "\n",
    "c= \"hEllo\"\n",
    "print(c)\n",
    "\n",
    "#del c    this will delete the current string \n"
   ]
  },
  {
   "cell_type": "markdown",
   "id": "7e1ce90c",
   "metadata": {},
   "source": [
    "# Operations on strings\n",
    "\n",
    "- Arithmetic operations\n",
    "- Relational operations\n",
    "- Logical operations"
   ]
  },
  {
   "cell_type": "code",
   "execution_count": null,
   "id": "9286a644",
   "metadata": {},
   "outputs": [],
   "source": [
    "# Arithmetic operations\n",
    "\n",
    "print(\"hello\" + \"world\")\n",
    "print(\"*\"*50)\n",
    "\n",
    "print(\"Mumbai\">\"Pune\") # Lexiographically . pune comes in dict than mumbai\n"
   ]
  },
  {
   "cell_type": "code",
   "execution_count": null,
   "id": "2e0f7348",
   "metadata": {},
   "outputs": [],
   "source": [
    "# Logical operations\n",
    "#* \"\" -> False . empty string is false for python\n",
    "#* \"hweehweu\" -> True . filled string is true for python\n",
    "\n",
    "print(\"hello\" and \"world\")\n",
    "print(\"world\" and \"\") # result '' which means false\n",
    "print(\"world\" or \"\")\n",
    "print(not \"\")"
   ]
  },
  {
   "cell_type": "markdown",
   "id": "748ccce7",
   "metadata": {},
   "source": [
    "# Common Functions\n",
    "\n",
    "- len \n",
    "- max \n",
    "- min\n",
    "- sorted"
   ]
  },
  {
   "cell_type": "code",
   "execution_count": null,
   "id": "5fd24004",
   "metadata": {},
   "outputs": [],
   "source": [
    "c=\"kolkata\"\n",
    "print(len(c))\n",
    "\n",
    "print(max(c))\n",
    "\n",
    "print(min(c))\n",
    "\n",
    "print(sorted(c))\n",
    "\n",
    "# for in descending order \n",
    "\n",
    "print(sorted(c,reverse=True))"
   ]
  },
  {
   "cell_type": "code",
   "execution_count": null,
   "id": "6b2a80eb",
   "metadata": {},
   "outputs": [],
   "source": [
    "# Capitalization/ Title/ Upper/ Lower/ Swapcase\n",
    "\n",
    "print(c.capitalize())\n",
    "\n",
    "print(\"hi my name is \".title())\n",
    "\n",
    "print(c.upper())\n",
    "\n",
    "print(c.lower())\n",
    "\n",
    "print(\"hello My name IS\".swapcase())"
   ]
  },
  {
   "cell_type": "code",
   "execution_count": null,
   "id": "f91afd1c",
   "metadata": {},
   "outputs": [],
   "source": [
    "# Count\n",
    "\"It is raining\".count(\"i\")"
   ]
  },
  {
   "cell_type": "code",
   "execution_count": null,
   "id": "d4c40c69",
   "metadata": {},
   "outputs": [],
   "source": [
    "# Find/Index\n",
    "\n",
    "print(\"hello world\".find(\"world\")) # will not throw exception and results -1\n",
    "\n",
    "print(\"hello world\".index(\"w\")) # will throw error if not found"
   ]
  },
  {
   "cell_type": "code",
   "execution_count": null,
   "id": "9c60dc40",
   "metadata": {},
   "outputs": [],
   "source": [
    "# Endswith/Startswith\n",
    "\n",
    "print(\"hello world\".endswith(\"worl\"))\n",
    "\n",
    "print(\"hello world\".startswith(\"hello\"))\n"
   ]
  },
  {
   "cell_type": "code",
   "execution_count": null,
   "id": "4eb7cbfd",
   "metadata": {},
   "outputs": [],
   "source": [
    "# Format\n",
    "\n",
    "name = \"John\"\n",
    "age = 30\n",
    "print(\"Hello, my name is {} and I am {} years old.\".format(name, age))\n",
    "\n",
    "print(\"Hello, my name is {1} and I am {0} years old.\".format(name, age))\n",
    "\n",
    "print(f\"Hello, my name is {name} and I am {age} years old.\")"
   ]
  },
  {
   "cell_type": "code",
   "execution_count": null,
   "id": "faebeb4b",
   "metadata": {},
   "outputs": [],
   "source": [
    "# Isalnum/ isalpha/ isdecimal/ isdegit/ isidentifier\n",
    "\n",
    "print(\"hello123\".isalnum()) #T\n",
    "print(\"hello12@\".isalnum()) #F\n",
    "\n",
    "\n",
    "print(\"hello\".isalpha())    #T\n",
    "print(\"hello123\".isalpha()) #F\n",
    "\n",
    "print(\"123\".isdigit())  #T\n",
    "print(\"12r3\".isdigit()) #F\n",
    "\n",
    "print(\"sd_dsd\".isidentifier())  #T"
   ]
  },
  {
   "cell_type": "code",
   "execution_count": null,
   "id": "e9878c64",
   "metadata": {},
   "outputs": [],
   "source": [
    "# SPLIT\n",
    "\n",
    "print(\"Who is the all god\".split()) #['Who', 'is', 'the', 'all', 'god'\n",
    "\n",
    "print(\"Who is the all god\".split(\"all\")) #'Who is the ', ' god']]\n",
    "\n",
    "\n",
    "print(\"hello,world\".split(\",\")) #['hello', 'world']\n",
    "\n",
    "print(\"hello world\".split(\" \")) #['hello', 'world']"
   ]
  },
  {
   "cell_type": "code",
   "execution_count": null,
   "id": "218d6316",
   "metadata": {},
   "outputs": [],
   "source": [
    "# Join function\n",
    "\n",
    "words = [\"hello\", \"world\"]\n",
    "print(\" \".join(words)) # hello world\n",
    "\n",
    "numbers = [1,2,3,4,5]\n",
    "print(\",\".join(map(str,numbers))) # 1,2,3,4,5"
   ]
  },
  {
   "cell_type": "code",
   "execution_count": null,
   "id": "a294ed39",
   "metadata": {},
   "outputs": [],
   "source": [
    "# Replace function\n",
    "\n",
    "print(\"hello world\".replace(\"world\", \"python\")) # hello python\n",
    "\n",
    "print(\"hello world world\".replace(\"world\", \"python\")) #* hello python python\n",
    "\n",
    "print(\"hello world world\".replace(\"world\", \"python\", 1)) #! hello python world"
   ]
  },
  {
   "cell_type": "code",
   "execution_count": null,
   "id": "a5482d9c",
   "metadata": {},
   "outputs": [],
   "source": [
    "# Strip\n",
    "\n",
    "print(\"  hello world  \".strip()) # hello world\n",
    "\n",
    "print(\"hello world  \".strip(\"h\")) # ello world"
   ]
  },
  {
   "cell_type": "code",
   "execution_count": null,
   "id": "5c4bcf12",
   "metadata": {},
   "outputs": [],
   "source": []
  }
 ],
 "metadata": {
  "kernelspec": {
   "display_name": "Python 3",
   "language": "python",
   "name": "python3"
  },
  "language_info": {
   "codemirror_mode": {
    "name": "ipython",
    "version": 3
   },
   "file_extension": ".py",
   "mimetype": "text/x-python",
   "name": "python",
   "nbconvert_exporter": "python",
   "pygments_lexer": "ipython3",
   "version": "3.10.0"
  }
 },
 "nbformat": 4,
 "nbformat_minor": 5
}
