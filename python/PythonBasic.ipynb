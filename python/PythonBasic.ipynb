{
 "cells": [
  {
   "cell_type": "markdown",
   "id": "e1b0fd2e-0d8a-49b1-902a-a7218ef66900",
   "metadata": {},
   "source": [
    "<h2>PRINT function<h2/>"
   ]
  },
  {
   "cell_type": "code",
   "execution_count": null,
   "id": "d9a64ec1-2267-498a-bbd5-de4f52f5abbd",
   "metadata": {},
   "outputs": [],
   "source": [
    "print(\"Harshi is back\")"
   ]
  },
  {
   "cell_type": "code",
   "execution_count": null,
   "id": "f9be1227-f2bb-4f9f-b48a-6fdb279878ef",
   "metadata": {},
   "outputs": [],
   "source": [
    "print(1,\".\",\"Harshi\",\"is\",\"living\",\"in\",\"US\")"
   ]
  },
  {
   "cell_type": "code",
   "execution_count": null,
   "id": "22a6bdc9-634c-4a7b-9ecc-81091dfc7f3f",
   "metadata": {},
   "outputs": [],
   "source": [
    "print(2,\".\",\"Harshi\",\"is\",\"living\",\"in\",\"US\",sep='/')"
   ]
  },
  {
   "cell_type": "code",
   "execution_count": null,
   "id": "e77c22bc-d2f7-4b15-b2ca-e3a64600e8bf",
   "metadata": {},
   "outputs": [],
   "source": [
    "print(2,\".\",\"Harshi\",\"is\",\"living\",\"in\",\"US\",sep='-')"
   ]
  },
  {
   "cell_type": "markdown",
   "id": "83a9b665-bad2-4515-8371-0bce48b2807e",
   "metadata": {},
   "source": [
    "<h1>Python supports 3 categories of data types</h1>"
   ]
  },
  {
   "cell_type": "markdown",
   "id": "6ad3af7c-f4a9-454d-95df-cc8933260958",
   "metadata": {},
   "source": [
    "<p>  \n",
    "Basic types-(integer, float, complex, boolean,and string \n",
    "    \n",
    "Container types-(list, tuples, sets, and dictionary)\n",
    "    \n",
    "User-defined types- Class\n",
    "    </p>"
   ]
  },
  {
   "cell_type": "code",
   "execution_count": null,
   "id": "70cd295e-056e-4f40-a8f9-d3c08166c4be",
   "metadata": {},
   "outputs": [],
   "source": [
    "# integer\n",
    "print(4)"
   ]
  },
  {
   "cell_type": "code",
   "execution_count": null,
   "id": "aa4a271a-79a1-41fb-878c-bd7fb2f5ea5d",
   "metadata": {},
   "outputs": [],
   "source": [
    "# float\n",
    "print(4.5)"
   ]
  },
  {
   "cell_type": "code",
   "execution_count": null,
   "id": "9e522839-d2b4-4264-aadf-ba3e3f39ad3d",
   "metadata": {},
   "outputs": [],
   "source": [
    "# complex \n",
    "print(4+5j)"
   ]
  },
  {
   "cell_type": "code",
   "execution_count": null,
   "id": "bdae8db7-c657-4d91-bad4-d629af56654c",
   "metadata": {},
   "outputs": [],
   "source": [
    "# boolean\n",
    "print(True)"
   ]
  },
  {
   "cell_type": "code",
   "execution_count": null,
   "id": "391728ba-798a-43bb-a5a2-607967fe83ff",
   "metadata": {},
   "outputs": [],
   "source": [
    "# strings\n",
    "print('1')\n",
    "print(\"1\")\n",
    "print('''1''')"
   ]
  },
  {
   "cell_type": "code",
   "execution_count": null,
   "id": "c11d2625-98b6-4115-b183-8168d0eb6597",
   "metadata": {},
   "outputs": [],
   "source": [
    "#list\n",
    "print([1,2,3,4])"
   ]
  },
  {
   "cell_type": "code",
   "execution_count": null,
   "id": "b8c6ef29-ac69-4fe0-95d5-26aa7d476686",
   "metadata": {},
   "outputs": [],
   "source": [
    "# tuple\n",
    "print((1,2,3,4))"
   ]
  },
  {
   "cell_type": "code",
   "execution_count": null,
   "id": "13cb6173-fe96-41d9-b5ee-2d998bb6bcf5",
   "metadata": {},
   "outputs": [],
   "source": [
    "#sets\n",
    "print({1,2,4})"
   ]
  },
  {
   "cell_type": "code",
   "execution_count": null,
   "id": "6d01095c-4ef4-41f3-b4d5-0c2ad7b127fe",
   "metadata": {},
   "outputs": [],
   "source": [
    "# dict\n",
    "print({\"name\":\"harshi\",\"age\":21,\"gender\":\"male\"})"
   ]
  },
  {
   "cell_type": "markdown",
   "id": "e192133a-b80a-4d4c-aac3-2aef14a179bd",
   "metadata": {},
   "source": [
    "<h3>Comments- A piece of code which is not executable by the the complier or interpreter</h3>"
   ]
  },
  {
   "cell_type": "code",
   "execution_count": 1,
   "id": "5760fe53-94d1-4e4e-871e-0ad343e22f88",
   "metadata": {},
   "outputs": [],
   "source": [
    "# Comments"
   ]
  },
  {
   "cell_type": "markdown",
   "id": "2a027899-9e1f-43ec-b1a3-9f26165e3744",
   "metadata": {},
   "source": [
    "<h3>Variables</h3>"
   ]
  },
  {
   "cell_type": "code",
   "execution_count": null,
   "id": "229c1214-7548-4b7b-9cc9-03965637e2fb",
   "metadata": {},
   "outputs": [],
   "source": [
    "# C lang \n",
    "# int a= s \n",
    "# in python its easy because there is no variable declaration\n",
    "name='Harshi'\n",
    "print(name)"
   ]
  },
  {
   "cell_type": "code",
   "execution_count": 2,
   "id": "9c9e2d4b-dbe6-4de2-acc3-536994dfe6de",
   "metadata": {},
   "outputs": [],
   "source": [
    "# Python is Dyanmic typic \n",
    "# dynamic binding= variable can have any data type "
   ]
  },
  {
   "cell_type": "code",
   "execution_count": null,
   "id": "064c3fbe-1401-486f-87c4-39358f7e863b",
   "metadata": {},
   "outputs": [],
   "source": [
    "# special Syntax \n",
    "a=5;b=6;c=7\n",
    "print(a)\n",
    "print(b)\n",
    "print(c)"
   ]
  },
  {
   "cell_type": "code",
   "execution_count": null,
   "id": "d78141b7-c79e-4d5b-b7ff-d749409116b9",
   "metadata": {},
   "outputs": [],
   "source": [
    "a,b,c=1,2,3\n",
    "print(a)\n",
    "print(b)\n",
    "print(c)"
   ]
  },
  {
   "cell_type": "markdown",
   "id": "f68a878f-ec48-46a5-83ca-66ef92a9ff3a",
   "metadata": {},
   "source": [
    "<h3>Keywords and identifiers</h3>"
   ]
  },
  {
   "cell_type": "markdown",
   "id": "61b5deaf-b678-4e3b-aaa6-a002178e5435",
   "metadata": {},
   "source": [
    "<h4>KEYWORDS</h4>\n",
    "<p> \n",
    " Python is a case sensitive programming langauge\n",
    " In programming, a keyword is a word that is reserved by a because the word has a special meaning. Keywords can be command or parameters. \n",
    " Keywords can be commands or parameters. Every programming langauge has a set of keywords that cannot be used as variale names.\n",
    "\n",
    "    Python has 33 keywods\n",
    "</p>"
   ]
  },
  {
   "cell_type": "code",
   "execution_count": null,
   "id": "8203b82d-7432-49f1-9f3a-f2f443bdc0b4",
   "metadata": {},
   "outputs": [],
   "source": [
    "\n",
    "import keyword\n",
    "print(keyword.kwlist)"
   ]
  },
  {
   "cell_type": "markdown",
   "id": "f050adf4-da14-48c5-8d57-b742c3bfde97",
   "metadata": {},
   "source": [
    "<h4>IDENTIFIERS</h4>\n",
    "<p>A python identifier is a name used to identify a variable, function, class, module, or other object.</p>\n",
    "\n",
    "<h5>Rules for setting identifiers</h5>\n",
    "<p>\n",
    "1. can only start with an alphabet or.\n",
    "2. Followed by 0 or more letter,_and digits. \n",
    "3. keywords cannot be used as an identifiers\n",
    "</p>"
   ]
  },
  {
   "cell_type": "code",
   "execution_count": null,
   "id": "7a4e1cb3-9e0f-4815-a635-be0a0d202b9e",
   "metadata": {},
   "outputs": [],
   "source": [
    "_harshi13='Harshi'\n",
    "print(_harshi13)"
   ]
  },
  {
   "cell_type": "markdown",
   "id": "fc499a00-bf46-4522-9851-2694743b778e",
   "metadata": {},
   "source": [
    "<h3>Taking user input</h3>"
   ]
  },
  {
   "cell_type": "code",
   "execution_count": null,
   "id": "6ef12e3e-3346-4fb0-97c6-808c8d1e5a49",
   "metadata": {},
   "outputs": [],
   "source": [
    "# This comes under dynamic interaction or software\n",
    "#* Input function returns a string by default.\n",
    "input(\"Apna naam bta\")\n"
   ]
  },
  {
   "cell_type": "code",
   "execution_count": 5,
   "id": "9653c413",
   "metadata": {},
   "outputs": [],
   "source": [
    "first_num=input(\"Enter the first number\")\n",
    "sec_num=input(\"Enter the second number\")"
   ]
  },
  {
   "cell_type": "code",
   "execution_count": null,
   "id": "27590c25",
   "metadata": {},
   "outputs": [],
   "source": [
    "print(first_num)\n",
    "print(sec_num)"
   ]
  },
  {
   "cell_type": "code",
   "execution_count": null,
   "id": "05f86fd3",
   "metadata": {},
   "outputs": [],
   "source": [
    "result= int(first_num)+ int(sec_num)\n",
    "print(result)"
   ]
  },
  {
   "cell_type": "code",
   "execution_count": null,
   "id": "3ed9eac2",
   "metadata": {},
   "outputs": [],
   "source": [
    "# Type function\n",
    "type(result)"
   ]
  },
  {
   "cell_type": "markdown",
   "id": "d77bab32",
   "metadata": {},
   "source": [
    "<h4>Type Conversion</h4>"
   ]
  },
  {
   "cell_type": "code",
   "execution_count": null,
   "id": "042848d9",
   "metadata": {},
   "outputs": [],
   "source": [
    " #process of converting a number to a string or a string to a number.  \n",
    "# expilcit and implicit conversion\n",
    "\n",
    "#implict =automatic\n",
    "4+4.5\n",
    "\n",
    "#explicit converting by with the human help \n",
    "int()\n",
    "print(result)"
   ]
  },
  {
   "cell_type": "markdown",
   "id": "440d9697",
   "metadata": {},
   "source": [
    "<h3>Literals</h3>\n",
    "<h6>literal is a raw data given in a variable. In python, there are various types of literals they are as follows:</h6>\n",
    "<p>\n",
    "numerica literals, \n",
    "String literals,\n",
    "boolean literals,\n",
    "special literals\n",
    "</p>"
   ]
  },
  {
   "cell_type": "code",
   "execution_count": null,
   "id": "cbcbc435",
   "metadata": {},
   "outputs": [],
   "source": [
    "#Numerical literals\n",
    "\n",
    "\n",
    "a= 0b1010 #*Binary literals\n",
    "b=100 #*decimal literals\n",
    "c=0o310 #*octal literals\n",
    "d=0x12c #*hexadecimal literals\n",
    "\n",
    "#Float literals\n",
    "float_1= 10.5\n",
    "float_2=1.5e2\n",
    "float_3=1.5e-3\n",
    "\n",
    "#complex literals\n",
    "x=3.14j\n",
    "\n",
    "print(a,b,c,d)\n",
    "print(float_1,float_2,float_3)\n",
    "print(x,x.imag,x.real)\n"
   ]
  },
  {
   "cell_type": "code",
   "execution_count": null,
   "id": "36797a92",
   "metadata": {},
   "outputs": [],
   "source": [
    "# String literals\n",
    "\n",
    "string ='this is a string'\n",
    "strings =\"this is a string\"\n",
    "char =\"C\"\n",
    "MultiLine_str=\"\"\"this is a multi-line string\"\"\"\n",
    "unicode= u\"\\U0001f600\\U0001f607\\U0001f608\"\n",
    "raw_str=r\"raw \\n string \"\n",
    "\n",
    "print(string)\n",
    "print(strings)\n",
    "print(char)\n",
    "print(MultiLine_str)\n",
    "print(raw_str)\n",
    "print(unicode)\n",
    "\n"
   ]
  },
  {
   "cell_type": "code",
   "execution_count": null,
   "id": "3c0dbed1",
   "metadata": {},
   "outputs": [],
   "source": [
    "#Boolean literals\n",
    "\n",
    "a= True + 4\n",
    "b= False + 10\n",
    "\n",
    "print(\"a: \", a)\n",
    "print(\"b: \", b)\n"
   ]
  },
  {
   "cell_type": "code",
   "execution_count": null,
   "id": "2c9e11e3",
   "metadata": {},
   "outputs": [],
   "source": [
    "#Special literal\n",
    "a= None\n",
    "print(a)"
   ]
  },
  {
   "cell_type": "markdown",
   "id": "57818ed0",
   "metadata": {},
   "source": [
    "# Operators\n",
    "opertors are used to perform operations on variables and values. Python has the following operators:\n",
    "* Arithmetic operations\n",
    "* comparison operations\n",
    "* logical operations\n",
    "* bitwise operations\n",
    "* Assignment operators\n",
    "* Identity operators\n",
    "* Memborship operators"
   ]
  },
  {
   "cell_type": "code",
   "execution_count": null,
   "id": "679e1dfe",
   "metadata": {},
   "outputs": [],
   "source": [
    "#* Arithmatic operations\n",
    "x=5\n",
    "y=2\n",
    "print(x+y)\n",
    "print(x*y)\n",
    "print(x%y)\n",
    "print(x**y)\n",
    "print(x // y)"
   ]
  },
  {
   "cell_type": "code",
   "execution_count": null,
   "id": "0dba8c20",
   "metadata": {},
   "outputs": [],
   "source": [
    "#! Comparison operations\n",
    "print(x>y)\n",
    "print(x<y)\n",
    "print(x<=y)\n",
    "print(x>=y)\n",
    "print(x==y)\n",
    "print(x!=y)"
   ]
  },
  {
   "cell_type": "code",
   "execution_count": null,
   "id": "eba9ae6c",
   "metadata": {},
   "outputs": [],
   "source": [
    "#Logical operations\n",
    "x=True\n",
    "y=False\n",
    "\n",
    "print(x or y)\n",
    "print(x and y)\n",
    "print(not y)"
   ]
  },
  {
   "cell_type": "code",
   "execution_count": null,
   "id": "221e3f6c",
   "metadata": {},
   "outputs": [],
   "source": [
    "# Bitwise operations\n",
    "x=2\n",
    "y=3\n",
    "\n",
    "# & means AND \n",
    "print(x & y) # the answer is two because of the following\n",
    "# 2= 010\n",
    "# 3= 110\n",
    "# -------- comparing true and false with bits \n",
    "#    010\n",
    "# --------\n",
    "\n"
   ]
  },
  {
   "cell_type": "code",
   "execution_count": null,
   "id": "d23c064a",
   "metadata": {},
   "outputs": [],
   "source": [
    "# | means OR \n",
    "print(x | y) # the answer is two because of the following\n",
    "# 2= 010\n",
    "# 3= 110\n",
    "# -------- comparing true and false with bits \n",
    "#    110\n",
    "# --------"
   ]
  },
  {
   "cell_type": "code",
   "execution_count": null,
   "id": "f49efbcc",
   "metadata": {},
   "outputs": [],
   "source": [
    "print( x>>2)"
   ]
  },
  {
   "cell_type": "code",
   "execution_count": null,
   "id": "f167f934",
   "metadata": {},
   "outputs": [],
   "source": [
    "print(y<<3)"
   ]
  },
  {
   "cell_type": "code",
   "execution_count": null,
   "id": "7871a3b2",
   "metadata": {},
   "outputs": [],
   "source": [
    "print(-x)"
   ]
  },
  {
   "cell_type": "code",
   "execution_count": 75,
   "id": "7db036df",
   "metadata": {},
   "outputs": [
    {
     "name": "stdout",
     "output_type": "stream",
     "text": [
      "3\n",
      "6\n",
      "3\n",
      "9\n",
      "1\n"
     ]
    }
   ],
   "source": [
    "# Assignment operators\n",
    "a=3\n",
    "print(a)\n",
    "#now \n",
    "a+=3\n",
    "print(a)\n",
    "a-=3\n",
    "print(a)\n",
    "a*=3\n",
    "print(a)\n",
    "a&=3\n",
    "print(a)"
   ]
  },
  {
   "cell_type": "code",
   "execution_count": 79,
   "id": "bea33213",
   "metadata": {},
   "outputs": [
    {
     "name": "stdout",
     "output_type": "stream",
     "text": [
      "True\n",
      "True\n",
      "False\n",
      "False\n"
     ]
    }
   ],
   "source": [
    "# identity operators- means variable values are same and stored at the same location \n",
    "a=3\n",
    "b=3\n",
    "\n",
    "print(a is b)\n",
    "a=\"he\"\n",
    "b=\"he\"\n",
    "\n",
    "print(a is b)\n",
    "a=[1,2,3]\n",
    "b=[1,2,3]\n",
    "\n",
    "print(a is b)\n",
    "print(a is b)\n",
    "a=\"h-e\"\n",
    "b=\"h-e\""
   ]
  },
  {
   "cell_type": "code",
   "execution_count": 86,
   "id": "89095ac1",
   "metadata": {},
   "outputs": [
    {
     "name": "stdout",
     "output_type": "stream",
     "text": [
      "True\n",
      "False\n",
      "False\n"
     ]
    }
   ],
   "source": [
    "# Membership operators\n",
    "x=\"Delhi\"\n",
    "print( \"D\" in x)\n",
    "print( \"D\" not in x)\n",
    "\n",
    "x=[1,2,3]\n",
    "print(5 in x)\n"
   ]
  },
  {
   "cell_type": "code",
   "execution_count": null,
   "id": "1c4488a3",
   "metadata": {},
   "outputs": [],
   "source": []
  }
 ],
 "metadata": {
  "kernelspec": {
   "display_name": "Python 3",
   "language": "python",
   "name": "python3"
  },
  "language_info": {
   "codemirror_mode": {
    "name": "ipython",
    "version": 3
   },
   "file_extension": ".py",
   "mimetype": "text/x-python",
   "name": "python",
   "nbconvert_exporter": "python",
   "pygments_lexer": "ipython3",
   "version": "3.10.0"
  }
 },
 "nbformat": 4,
 "nbformat_minor": 5
}
