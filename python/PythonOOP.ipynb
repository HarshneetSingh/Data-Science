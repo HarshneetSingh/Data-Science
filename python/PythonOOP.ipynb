{
 "cells": [
  {
   "cell_type": "markdown",
   "metadata": {},
   "source": [
    "# OOP\n",
    "- The main power of OOP is to create its own data type \n",
    "* Classes and objects\n",
    "* Class is a blueprint for creating objects , For ex = Car is a class and nissan is a object\n",
    "\n",
    "* Objects are instances of classes. For ex = nissan is an object of Car class\n",
    "\n",
    "* Syntax to creat objects ->\n",
    " objectname = classname()"
   ]
  },
  {
   "cell_type": "code",
   "execution_count": null,
   "metadata": {},
   "outputs": [],
   "source": [
    "#Pascal case -> myWorld\n",
    "\n",
    "class Atm: \n",
    "    \n",
    "    # constructor(Special Funtions) ->SUPERPOWER -> \n",
    "    def __init__(self):\n",
    "        self.pin= ''\n",
    "        self.balance = 0\n",
    "        self.menu()\n",
    "        # print(\"Constructor executed\")\n",
    "    def menu(self):\n",
    "        userInput=input(\"\"\"\n",
    "        Hi how can i help you?\n",
    "        1. Press 1 to create pin\n",
    "        2. Press 2 to check balance\n",
    "        3. Press 3 to withdraw money\n",
    "        4. press 4 to change pin\n",
    "        5. Anything else to exit\n",
    "        \"\"\")\n",
    "\n",
    "        if userInput == '1':\n",
    "            self.createPin()\n",
    "        elif userInput == '2':\n",
    "            self.checkBalance()\n",
    "        elif userInput == '3':\n",
    "            self.withdrawMoney()\n",
    "        elif userInput == '4':\n",
    "            self.changePin()\n",
    "        else:\n",
    "            print(\"Thank you for using our ATM\")\n",
    "    \n",
    "    def createPin(self):\n",
    "        user_pin= input(\"Enter your PIN number\")\n",
    "        self.pin = user_pin\n",
    "\n",
    "        user_balance=int(input(\"Enter Balance\"))\n",
    "        self.balance =user_balance \n",
    "\n",
    "        print(\"Pin created successfully\")\n",
    "        self.menu()\n",
    "\n",
    "    def changePin(self):\n",
    "        old_pin=input(\"Enter your Existing PIN number\")\n",
    "        if old_pin == self.pin:\n",
    "            new_pin=input(\"Enter your new PIN number\")\n",
    "            self.pin = new_pin\n",
    "            print(\"Pin changed successfully\")\n",
    "            self.menu()\n",
    "        else:\n",
    "            print(\"Old PIN is incorrect\")\n",
    "            self.menu()\n",
    "    \n",
    "    def checkBalance(self):\n",
    "\n",
    "        user_pin= input(\"Enter your PIN number\")\n",
    "        if user_pin == self.pin:\n",
    "            print(f\"Your current balance is {self.balance}\")\n",
    "        else:\n",
    "            print(\"Incorrect PIN\")\n",
    "        self.menu()\n",
    "\n",
    "    def withdrawMoney(self):\n",
    "        user_pin= input(\"Enter your PIN number\")\n",
    "        if user_pin==self.pin:\n",
    "            withdrawlAmaunt=int(input(\"How much to withdraw\"))\n",
    "            if withdrawlAmaunt<=self.balance:\n",
    "                self.balance= self.balance - withdrawlAmaunt\n",
    "                print(\"Withdrawn successfully\")\n",
    "                print(f\"Your current balance is {self.balance}\")\n",
    "            else:\n",
    "                print(\"Insufficient balance\")\n",
    "        else:\n",
    "            print(\"Incorrect PIN\")\n",
    "\n",
    "        self.menu()"
   ]
  },
  {
   "cell_type": "code",
   "execution_count": null,
   "metadata": {},
   "outputs": [],
   "source": [
    "obj = Atm()\n",
    "\n",
    "\n",
    "# print(type(obj))\n",
    "\n",
    "# accessing attributes of an object\n",
    "#* print(obj.pin)\n",
    "#* print(obj.balance)"
   ]
  },
  {
   "cell_type": "markdown",
   "metadata": {},
   "source": [
    "- Method = A function which is created in the class \n",
    "- Function= A function which is outside of the class"
   ]
  },
  {
   "cell_type": "markdown",
   "metadata": {},
   "source": []
  },
  {
   "cell_type": "markdown",
   "metadata": {},
   "source": [
    "# Magic method\n",
    "- It is a special method which has a super power. \n",
    "- [__Name__] example-> [__init__]. In constructor\n",
    "- A Constructor is the special method, It automatically created with calling it when an instance is created.\n",
    "\n",
    "* Benifits of constructor\n",
    "- Constructor is used to write configuration code.\n",
    "- If god is the programmer, He made the earth a class, Human beings are objects, constructors have a things in it which god have not given to human beings. answer is DEATH"
   ]
  },
  {
   "cell_type": "markdown",
   "metadata": {},
   "source": []
  },
  {
   "cell_type": "code",
   "execution_count": 20,
   "metadata": {},
   "outputs": [],
   "source": [
    "class Function:\n",
    "    # Parameterarized Constructor\n",
    "\n",
    "    def __init__(self,x,y):\n",
    "        self.num= x\n",
    "        self.den= y\n",
    "\n",
    "    def __str__(self):\n",
    "        return f\"{self.num}/{self.den}\"\n",
    "    \n",
    "    def __add__(self, other):\n",
    "        new_num=self.num*other.den + other.num*self.den\n",
    "        new_den= self.den*other.den\n",
    "        return f\"{new_num}/{new_den}\"\n",
    "    \n",
    "    def __sub__(self, other):\n",
    "        new_num=self.num*other.den - other.num*self.den\n",
    "        new_den= self.den*other.den\n",
    "        return f\"{new_num}/{new_den}\""
   ]
  },
  {
   "cell_type": "code",
   "execution_count": 21,
   "metadata": {},
   "outputs": [
    {
     "name": "stdout",
     "output_type": "stream",
     "text": [
      "3/4\n",
      "16/16\n",
      "8/16\n"
     ]
    }
   ],
   "source": [
    "ObjF = Function(3,4)\n",
    "ObjF2 = Function(1,4)\n",
    "\n",
    "\n",
    "print(ObjF) # this return the __str__ method\n",
    "print(ObjF + ObjF2) # This will look for the __add__ function in the object and return the answer\n",
    "print(ObjF - ObjF2) # This will look for the __sub__ method in the object"
   ]
  },
  {
   "cell_type": "code",
   "execution_count": null,
   "metadata": {},
   "outputs": [],
   "source": []
  },
  {
   "cell_type": "code",
   "execution_count": null,
   "metadata": {},
   "outputs": [],
   "source": []
  }
 ],
 "metadata": {
  "kernelspec": {
   "display_name": "Python 3",
   "language": "python",
   "name": "python3"
  },
  "language_info": {
   "codemirror_mode": {
    "name": "ipython",
    "version": 3
   },
   "file_extension": ".py",
   "mimetype": "text/x-python",
   "name": "python",
   "nbconvert_exporter": "python",
   "pygments_lexer": "ipython3",
   "version": "3.10.0"
  }
 },
 "nbformat": 4,
 "nbformat_minor": 4
}
